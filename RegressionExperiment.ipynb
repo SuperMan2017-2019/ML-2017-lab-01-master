{
 "cells": [
  {
   "cell_type": "code",
   "execution_count": 20,
   "metadata": {},
   "outputs": [
    {
     "name": "stdout",
     "output_type": "stream",
     "text": [
      "(253, 13) <class 'numpy.ndarray'>\n"
     ]
    },
    {
     "data": {
      "text/plain": [
       "Text(0.5,1,'The graph of linear Regression and Gradient Descent ')"
      ]
     },
     "execution_count": 20,
     "metadata": {},
     "output_type": "execute_result"
    },
    {
     "data": {
      "image/png": "[encoded data removed]",
      "text/plain": [
       "<matplotlib.figure.Figure at 0xdf804f0>"
      ]
     },
     "metadata": {},
     "output_type": "display_data"
    }
   ],
   "source": [
    "#This code  Done By:\n",
    "#           Ezzaddin Ahmed Othman Saeed\n",
    "#                 Taiz-Yemen\n",
    "#------------------------------------------------\n",
    "\n",
    "from sklearn.externals.joblib import Memory\n",
    "\n",
    "#    STEP 1:\n",
    "\n",
    "# Load the experiment data by import load_svmlight_file function in sklearn library\n",
    "\n",
    "from sklearn.datasets import load_svmlight_file\n",
    "mem = Memory(\"./mycache\")\n",
    "\n",
    "mem.cache\n",
    "def get_data():\n",
    "    data = load_svmlight_file(\"./datasets/housing_scale\")\n",
    "    \n",
    "    return data\n",
    "\n",
    "X, Y = get_data()\n",
    "X = X.data.reshape(X.shape)\n",
    "\n",
    "\n",
    "###############################       #    STEP 2:  #          #####################################                            \n",
    "# devide the dataset into traning set && validation set by train_test_split function\n",
    "\n",
    "                              #  ===>> validation set isn't requier here  <===\n",
    "\n",
    "from sklearn.model_selection import train_test_split\n",
    "X_train, X_validation, Y_train, Y_validation = train_test_split(X, Y, test_size=0.5)\n",
    "#***********************************\n",
    "print(X_train.shape,type(X_train)) #\n",
    "#***********************************\n",
    "\n",
    "#################################\n",
    "\n",
    "#There are several ways to implement a linear regression\n",
    "import numpy # here I used numpy  To do linear regression\n",
    "\n",
    "n_samples_train, n_features = X_train.shape ### n_samples_train is trainning sample & n_features is number of features\n",
    "\n",
    "X_train = numpy.concatenate((X_train,numpy.ones((n_samples_train,1))),axis=1)\n",
    "Y_train = numpy.reshape(Y_train,(n_samples_train,1))\n",
    "\n",
    "n_samples_validation, _ = X_validation.shape\n",
    "X_validation = numpy.concatenate((X_validation,numpy.ones((n_samples_validation,1))),axis=1)\n",
    "Y_validation = numpy.reshape(Y_validation,(n_samples_validation,1))\n",
    "\n",
    "factor = 0.5 \n",
    "learning_rate = 0.0008\n",
    "\n",
    "         \n",
    "    # #  # STEP 3:\n",
    "\n",
    "              ######################## Initialize linear model parameters #######################\n",
    "        \n",
    "W = numpy.random.normal(0.01,0.1,size=(n_features + 1,1)) # initialize with zero normal distribution\n",
    "\n",
    "losses_train = []\n",
    "losses_val = []\n",
    "\n",
    "max_loop = 200 ## total Iterations - No. Loops=200\n",
    "\n",
    "for epoch in range(max_loop):\n",
    "    diff = numpy.dot(X_train,W) - Y_train \n",
    "    G = factor * W + numpy.dot(X_train.transpose(),diff) # calculate the gradient\n",
    "    G = -G \n",
    "    W = W + learning_rate * G # update the parameters\n",
    "    \n",
    "    Y_predict = numpy.dot(X_train,W) # predict under the train set\n",
    "    loss_train = numpy.average(numpy.abs(Y_predict-Y_train)) # calculate the absolute differences\n",
    "    losses_train.append(loss_train)\n",
    "    \n",
    "    Y_predict = numpy.dot(X_validation,W) # predict under the validation set\n",
    "    loss_val = numpy.average(numpy.abs(Y_predict-Y_validation)) # calculate the absolute differences\n",
    "    losses_val.append(loss_val)\n",
    "    \n",
    "    #########################################\n",
    "    \n",
    "    %matplotlib inline\n",
    "import matplotlib.pyplot as plt \n",
    "\n",
    "epoches = range(len(losses_train))\n",
    " \n",
    "plt.figure(figsize=(18,6))\n",
    "plt.plot(epoches,losses_train,\"-\",color=\"r\",label=\"train loss\") \n",
    "plt.plot(epoches,losses_val,\"-\",color=\"b\",label=\"validation loss\") \n",
    "plt.xlabel(\"epochs\")\n",
    "plt.ylabel(\"loss\")\n",
    "plt.legend()\n",
    "plt.title(\"The graph of linear Regression and Gradient Descent \")\n",
    "\n",
    "    "
   ]
  },
  {
   "cell_type": "code",
   "execution_count": null,
   "metadata": {
    "collapsed": true
   },
   "outputs": [],
   "source": []
  },
  {
   "cell_type": "code",
   "execution_count": null,
   "metadata": {
    "collapsed": true
   },
   "outputs": [],
   "source": []
  },
  {
   "cell_type": "code",
   "execution_count": null,
   "metadata": {
    "collapsed": true
   },
   "outputs": [],
   "source": []
  },
  {
   "cell_type": "code",
   "execution_count": null,
   "metadata": {
    "collapsed": true,
    "scrolled": true
   },
   "outputs": [],
   "source": []
  },
  {
   "cell_type": "code",
   "execution_count": null,
   "metadata": {
    "collapsed": true
   },
   "outputs": [],
   "source": []
  },
  {
   "cell_type": "code",
   "execution_count": null,
   "metadata": {
    "collapsed": true
   },
   "outputs": [],
   "source": []
  },
  {
   "cell_type": "code",
   "execution_count": null,
   "metadata": {
    "collapsed": true
   },
   "outputs": [],
   "source": []
  }
 ],
 "metadata": {
  "kernelspec": {
   "display_name": "Python 3",
   "language": "python",
   "name": "python3"
  },
  "language_info": {
   "codemirror_mode": {
    "name": "ipython",
    "version": 3
   },
   "file_extension": ".py",
   "mimetype": "text/x-python",
   "name": "python",
   "nbconvert_exporter": "python",
   "pygments_lexer": "ipython3",
   "version": "3.6.3"
  }
 },
 "nbformat": 4,
 "nbformat_minor": 2
}
